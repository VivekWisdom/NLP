{
  "nbformat": 4,
  "nbformat_minor": 0,
  "metadata": {
    "kernelspec": {
      "name": "python3",
      "display_name": "Python 3"
    },
    "language_info": {
      "codemirror_mode": {
        "name": "ipython",
        "version": 3
      },
      "file_extension": ".py",
      "mimetype": "text/x-python",
      "name": "python",
      "nbconvert_exporter": "python",
      "pygments_lexer": "ipython3",
      "version": "3.7.3"
    },
    "colab": {
      "name": "Named_Entity_Recognition_ELMo.ipynb",
      "provenance": [],
      "toc_visible": true,
      "include_colab_link": true
    },
    "accelerator": "GPU"
  },
  "cells": [
    {
      "cell_type": "markdown",
      "metadata": {
        "id": "view-in-github",
        "colab_type": "text"
      },
      "source": [
        "<a href=\"https://colab.research.google.com/github/vivekwisdom/NLP/blob/develop/NER/Named_Entity_Recognition_ELMo.ipynb\" target=\"_parent\"><img src=\"https://colab.research.google.com/assets/colab-badge.svg\" alt=\"Open In Colab\"/></a>"
      ]
    },
    {
      "cell_type": "markdown",
      "metadata": {
        "id": "1uS-l6IMPj85",
        "colab_type": "text"
      },
      "source": [
        "[Source]('https://github.com/nxs5899/Named-Entity-Recognition_DeepLearning-keras')"
      ]
    },
    {
      "cell_type": "code",
      "metadata": {
        "id": "Ok0INx6KRAui",
        "colab_type": "code",
        "colab": {
          "base_uri": "https://localhost:8080/",
          "height": 411
        },
        "outputId": "1fd95143-591f-4e27-e284-1fc8d8632fb5"
      },
      "source": [
        "!pip install seqeval version_information"
      ],
      "execution_count": 6,
      "outputs": [
        {
          "output_type": "stream",
          "text": [
            "Collecting seqeval\n",
            "  Downloading https://files.pythonhosted.org/packages/34/91/068aca8d60ce56dd9ba4506850e876aba5e66a6f2f29aa223224b50df0de/seqeval-0.0.12.tar.gz\n",
            "Collecting version_information\n",
            "  Downloading https://files.pythonhosted.org/packages/ff/b0/6088e15b9ac43a08ccd300d68e0b900a20cf62077596c11ad11dd8cc9e4b/version_information-1.0.3.tar.gz\n",
            "Requirement already satisfied: numpy>=1.14.0 in /usr/local/lib/python3.6/dist-packages (from seqeval) (1.16.5)\n",
            "Requirement already satisfied: Keras>=2.2.4 in /usr/local/lib/python3.6/dist-packages (from seqeval) (2.2.5)\n",
            "Requirement already satisfied: h5py in /usr/local/lib/python3.6/dist-packages (from Keras>=2.2.4->seqeval) (2.8.0)\n",
            "Requirement already satisfied: scipy>=0.14 in /usr/local/lib/python3.6/dist-packages (from Keras>=2.2.4->seqeval) (1.3.1)\n",
            "Requirement already satisfied: six>=1.9.0 in /usr/local/lib/python3.6/dist-packages (from Keras>=2.2.4->seqeval) (1.12.0)\n",
            "Requirement already satisfied: keras-applications>=1.0.8 in /usr/local/lib/python3.6/dist-packages (from Keras>=2.2.4->seqeval) (1.0.8)\n",
            "Requirement already satisfied: keras-preprocessing>=1.1.0 in /usr/local/lib/python3.6/dist-packages (from Keras>=2.2.4->seqeval) (1.1.0)\n",
            "Requirement already satisfied: pyyaml in /usr/local/lib/python3.6/dist-packages (from Keras>=2.2.4->seqeval) (3.13)\n",
            "Building wheels for collected packages: seqeval, version-information\n",
            "  Building wheel for seqeval (setup.py) ... \u001b[?25l\u001b[?25hdone\n",
            "  Created wheel for seqeval: filename=seqeval-0.0.12-cp36-none-any.whl size=7424 sha256=a4b5c24cd8895bbcfc54dce2ae40bb61ec203e0098087a9e7254b4f74886fa9b\n",
            "  Stored in directory: /root/.cache/pip/wheels/4f/32/0a/df3b340a82583566975377d65e724895b3fad101a3fb729f68\n",
            "  Building wheel for version-information (setup.py) ... \u001b[?25l\u001b[?25hdone\n",
            "  Created wheel for version-information: filename=version_information-1.0.3-cp36-none-any.whl size=3880 sha256=228a2e6283446f10c08c64bc8bf7bc814c342c6cfb1195a9a3b0aa27f1c4ff86\n",
            "  Stored in directory: /root/.cache/pip/wheels/1f/4c/b3/1976ac11dbd802723b564de1acaa453a72c36c95827e576321\n",
            "Successfully built seqeval version-information\n",
            "Installing collected packages: seqeval, version-information\n",
            "Successfully installed seqeval-0.0.12 version-information-1.0.3\n"
          ],
          "name": "stdout"
        }
      ]
    },
    {
      "cell_type": "code",
      "metadata": {
        "id": "0lz8J75cRH-y",
        "colab_type": "code",
        "colab": {
          "base_uri": "https://localhost:8080/",
          "height": 34
        },
        "outputId": "3cb1f3c4-97e1-413e-fa9f-5aad37d0df41"
      },
      "source": [
        "from google.colab import drive\n",
        "drive.mount('/content/drive')"
      ],
      "execution_count": 7,
      "outputs": [
        {
          "output_type": "stream",
          "text": [
            "Drive already mounted at /content/drive; to attempt to forcibly remount, call drive.mount(\"/content/drive\", force_remount=True).\n"
          ],
          "name": "stdout"
        }
      ]
    },
    {
      "cell_type": "code",
      "metadata": {
        "id": "NMLVps-6Pj9A",
        "colab_type": "code",
        "colab": {
          "base_uri": "https://localhost:8080/",
          "height": 229
        },
        "outputId": "277f6e96-d6d2-4e14-ceee-05f29824b974"
      },
      "source": [
        "import pandas as pd\n",
        "import numpy as np\n",
        "import matplotlib.pyplot as plt\n",
        "import tqdm\n",
        "from keras.preprocessing.sequence import pad_sequences\n",
        "from sklearn.model_selection import train_test_split\n",
        "import tensorflow as tf\n",
        "import tensorflow_hub as hub\n",
        "from keras import backend as K\n",
        "from keras.models import Model, Input\n",
        "from keras.layers.merge import add\n",
        "from keras.layers import LSTM, Embedding, Dense, TimeDistributed, Dropout, Bidirectional, Lambda\n",
        "from seqeval.metrics import precision_score, recall_score, f1_score, classification_report\n",
        "\n",
        "%load_ext version_information\n",
        "%version_information pandas, numpy, keras, tensorflow, sklearn\n",
        "\n",
        "print(\"GPU is\", \"available\" if tf.test.is_gpu_available() else \"NOT AVAILABLE\")"
      ],
      "execution_count": 8,
      "outputs": [
        {
          "output_type": "execute_result",
          "data": {
            "text/latex": "\\begin{tabular}{|l|l|}\\hline\n{\\bf Software} & {\\bf Version} \\\\ \\hline\\hline\nPython & 3.6.8 64bit [GCC 8.0.1 20180414 (experimental) [trunk revision 259383] \\\\ \\hline\nIPython & 5.5.0 \\\\ \\hline\nOS & Linux 4.14.137+ x86\\_64 with Ubuntu 18.04 bionic \\\\ \\hline\npandas & 0.24.2 \\\\ \\hline\nnumpy & 1.16.5 \\\\ \\hline\nkeras & 2.2.5 \\\\ \\hline\ntensorflow & 1.14.0 \\\\ \\hline\nsklearn & 0.21.3 \\\\ \\hline\n\\hline \\multicolumn{2}{|l|}{Thu Sep 19 11:27:09 2019 UTC} \\\\ \\hline\n\\end{tabular}\n",
            "application/json": {
              "Software versions": [
                {
                  "version": "3.6.8 64bit [GCC 8.0.1 20180414 (experimental) [trunk revision 259383]",
                  "module": "Python"
                },
                {
                  "version": "5.5.0",
                  "module": "IPython"
                },
                {
                  "version": "Linux 4.14.137+ x86_64 with Ubuntu 18.04 bionic",
                  "module": "OS"
                },
                {
                  "version": "0.24.2",
                  "module": "pandas"
                },
                {
                  "version": "1.16.5",
                  "module": "numpy"
                },
                {
                  "version": "2.2.5",
                  "module": "keras"
                },
                {
                  "version": "1.14.0",
                  "module": "tensorflow"
                },
                {
                  "version": "0.21.3",
                  "module": "sklearn"
                }
              ]
            },
            "text/html": [
              "<table><tr><th>Software</th><th>Version</th></tr><tr><td>Python</td><td>3.6.8 64bit [GCC 8.0.1 20180414 (experimental) [trunk revision 259383]</td></tr><tr><td>IPython</td><td>5.5.0</td></tr><tr><td>OS</td><td>Linux 4.14.137+ x86_64 with Ubuntu 18.04 bionic</td></tr><tr><td>pandas</td><td>0.24.2</td></tr><tr><td>numpy</td><td>1.16.5</td></tr><tr><td>keras</td><td>2.2.5</td></tr><tr><td>tensorflow</td><td>1.14.0</td></tr><tr><td>sklearn</td><td>0.21.3</td></tr><tr><td colspan='2'>Thu Sep 19 11:27:09 2019 UTC</td></tr></table>"
            ],
            "text/plain": [
              "Software versions\n",
              "Python 3.6.8 64bit [GCC 8.0.1 20180414 (experimental) [trunk revision 259383]\n",
              "IPython 5.5.0\n",
              "OS Linux 4.14.137+ x86_64 with Ubuntu 18.04 bionic\n",
              "pandas 0.24.2\n",
              "numpy 1.16.5\n",
              "keras 2.2.5\n",
              "tensorflow 1.14.0\n",
              "sklearn 0.21.3\n",
              "Thu Sep 19 11:27:09 2019 UTC"
            ]
          },
          "metadata": {
            "tags": []
          },
          "execution_count": 8
        }
      ]
    },
    {
      "cell_type": "code",
      "metadata": {
        "id": "uL9-DhpcPj9I",
        "colab_type": "code",
        "colab": {}
      },
      "source": [
        "plt.style.use(\"ggplot\")"
      ],
      "execution_count": 0,
      "outputs": []
    },
    {
      "cell_type": "code",
      "metadata": {
        "id": "eAY6K6RdPj9N",
        "colab_type": "code",
        "colab": {
          "base_uri": "https://localhost:8080/",
          "height": 421
        },
        "outputId": "043b218c-9691-465e-a8d8-44bdaa4d20c7"
      },
      "source": [
        "data = pd.read_csv(\"ner_dataset.csv\", encoding=\"latin1\")\n",
        "data = data.drop(['POS'], axis=1)\n",
        "data = data.fillna(method=\"ffill\")\n",
        "data.tail(12)"
      ],
      "execution_count": 10,
      "outputs": [
        {
          "output_type": "execute_result",
          "data": {
            "text/html": [
              "<div>\n",
              "<style scoped>\n",
              "    .dataframe tbody tr th:only-of-type {\n",
              "        vertical-align: middle;\n",
              "    }\n",
              "\n",
              "    .dataframe tbody tr th {\n",
              "        vertical-align: top;\n",
              "    }\n",
              "\n",
              "    .dataframe thead th {\n",
              "        text-align: right;\n",
              "    }\n",
              "</style>\n",
              "<table border=\"1\" class=\"dataframe\">\n",
              "  <thead>\n",
              "    <tr style=\"text-align: right;\">\n",
              "      <th></th>\n",
              "      <th>Sentence #</th>\n",
              "      <th>Word</th>\n",
              "      <th>Tag</th>\n",
              "    </tr>\n",
              "  </thead>\n",
              "  <tbody>\n",
              "    <tr>\n",
              "      <th>1048563</th>\n",
              "      <td>Sentence: 47958</td>\n",
              "      <td>exploded</td>\n",
              "      <td>O</td>\n",
              "    </tr>\n",
              "    <tr>\n",
              "      <th>1048564</th>\n",
              "      <td>Sentence: 47958</td>\n",
              "      <td>upon</td>\n",
              "      <td>O</td>\n",
              "    </tr>\n",
              "    <tr>\n",
              "      <th>1048565</th>\n",
              "      <td>Sentence: 47958</td>\n",
              "      <td>impact</td>\n",
              "      <td>O</td>\n",
              "    </tr>\n",
              "    <tr>\n",
              "      <th>1048566</th>\n",
              "      <td>Sentence: 47958</td>\n",
              "      <td>.</td>\n",
              "      <td>O</td>\n",
              "    </tr>\n",
              "    <tr>\n",
              "      <th>1048567</th>\n",
              "      <td>Sentence: 47959</td>\n",
              "      <td>Indian</td>\n",
              "      <td>B-gpe</td>\n",
              "    </tr>\n",
              "    <tr>\n",
              "      <th>1048568</th>\n",
              "      <td>Sentence: 47959</td>\n",
              "      <td>forces</td>\n",
              "      <td>O</td>\n",
              "    </tr>\n",
              "    <tr>\n",
              "      <th>1048569</th>\n",
              "      <td>Sentence: 47959</td>\n",
              "      <td>said</td>\n",
              "      <td>O</td>\n",
              "    </tr>\n",
              "    <tr>\n",
              "      <th>1048570</th>\n",
              "      <td>Sentence: 47959</td>\n",
              "      <td>they</td>\n",
              "      <td>O</td>\n",
              "    </tr>\n",
              "    <tr>\n",
              "      <th>1048571</th>\n",
              "      <td>Sentence: 47959</td>\n",
              "      <td>responded</td>\n",
              "      <td>O</td>\n",
              "    </tr>\n",
              "    <tr>\n",
              "      <th>1048572</th>\n",
              "      <td>Sentence: 47959</td>\n",
              "      <td>to</td>\n",
              "      <td>O</td>\n",
              "    </tr>\n",
              "    <tr>\n",
              "      <th>1048573</th>\n",
              "      <td>Sentence: 47959</td>\n",
              "      <td>the</td>\n",
              "      <td>O</td>\n",
              "    </tr>\n",
              "    <tr>\n",
              "      <th>1048574</th>\n",
              "      <td>Sentence: 47959</td>\n",
              "      <td>attack</td>\n",
              "      <td>O</td>\n",
              "    </tr>\n",
              "  </tbody>\n",
              "</table>\n",
              "</div>"
            ],
            "text/plain": [
              "              Sentence #       Word    Tag\n",
              "1048563  Sentence: 47958   exploded      O\n",
              "1048564  Sentence: 47958       upon      O\n",
              "1048565  Sentence: 47958     impact      O\n",
              "1048566  Sentence: 47958          .      O\n",
              "1048567  Sentence: 47959     Indian  B-gpe\n",
              "1048568  Sentence: 47959     forces      O\n",
              "1048569  Sentence: 47959       said      O\n",
              "1048570  Sentence: 47959       they      O\n",
              "1048571  Sentence: 47959  responded      O\n",
              "1048572  Sentence: 47959         to      O\n",
              "1048573  Sentence: 47959        the      O\n",
              "1048574  Sentence: 47959     attack      O"
            ]
          },
          "metadata": {
            "tags": []
          },
          "execution_count": 10
        }
      ]
    },
    {
      "cell_type": "code",
      "metadata": {
        "id": "BFbOxwnjPj9T",
        "colab_type": "code",
        "colab": {
          "base_uri": "https://localhost:8080/",
          "height": 34
        },
        "outputId": "a7d18008-6321-4566-f591-1d00d6b4befa"
      },
      "source": [
        "words = set(list(data['Word'].values))\n",
        "words.add('PADword')\n",
        "n_words = len(words)\n",
        "n_words"
      ],
      "execution_count": 11,
      "outputs": [
        {
          "output_type": "execute_result",
          "data": {
            "text/plain": [
              "35179"
            ]
          },
          "metadata": {
            "tags": []
          },
          "execution_count": 11
        }
      ]
    },
    {
      "cell_type": "code",
      "metadata": {
        "id": "Hefv_YtjPj9Y",
        "colab_type": "code",
        "colab": {
          "base_uri": "https://localhost:8080/",
          "height": 34
        },
        "outputId": "effae1db-084a-43ef-fd37-d7153f888917"
      },
      "source": [
        "tags = list(set(data[\"Tag\"].values))\n",
        "n_tags = len(tags)\n",
        "n_tags"
      ],
      "execution_count": 12,
      "outputs": [
        {
          "output_type": "execute_result",
          "data": {
            "text/plain": [
              "17"
            ]
          },
          "metadata": {
            "tags": []
          },
          "execution_count": 12
        }
      ]
    },
    {
      "cell_type": "code",
      "metadata": {
        "id": "2duz5nKcPj9q",
        "colab_type": "code",
        "colab": {}
      },
      "source": [
        "class SentenceGetter(object):\n",
        "    \n",
        "    def __init__(self, data):\n",
        "        self.n_sent = 1\n",
        "        self.data = data\n",
        "        self.empty = False\n",
        "        agg_func = lambda s: [(w, t) for w, t in zip(s[\"Word\"].values.tolist(),s[\"Tag\"].values.tolist())]\n",
        "        self.grouped = self.data.groupby(\"Sentence #\").apply(agg_func)\n",
        "        self.sentences = [s for s in self.grouped]\n",
        "    \n",
        "    def get_next(self):\n",
        "        try:\n",
        "            s = self.grouped[\"Sentence: {}\".format(self.n_sent)]\n",
        "            self.n_sent += 1\n",
        "            return s\n",
        "        except:\n",
        "            return None"
      ],
      "execution_count": 0,
      "outputs": []
    },
    {
      "cell_type": "code",
      "metadata": {
        "id": "34dUUJkxPj9s",
        "colab_type": "code",
        "colab": {
          "base_uri": "https://localhost:8080/",
          "height": 54
        },
        "outputId": "ee3695fc-8cc7-48a6-c1f3-e754134a6eb5"
      },
      "source": [
        "getter = SentenceGetter(data)\n",
        "sent = getter.get_next()\n",
        "print(sent)"
      ],
      "execution_count": 14,
      "outputs": [
        {
          "output_type": "stream",
          "text": [
            "[('Thousands', 'O'), ('of', 'O'), ('demonstrators', 'O'), ('have', 'O'), ('marched', 'O'), ('through', 'O'), ('London', 'B-geo'), ('to', 'O'), ('protest', 'O'), ('the', 'O'), ('war', 'O'), ('in', 'O'), ('Iraq', 'B-geo'), ('and', 'O'), ('demand', 'O'), ('the', 'O'), ('withdrawal', 'O'), ('of', 'O'), ('British', 'B-gpe'), ('troops', 'O'), ('from', 'O'), ('that', 'O'), ('country', 'O'), ('.', 'O')]\n"
          ],
          "name": "stdout"
        }
      ]
    },
    {
      "cell_type": "code",
      "metadata": {
        "id": "ykz66PJOPj9w",
        "colab_type": "code",
        "colab": {
          "base_uri": "https://localhost:8080/",
          "height": 34
        },
        "outputId": "1da2e4b0-2e61-4d7b-d76c-ce4f157ae204"
      },
      "source": [
        "sentences = getter.sentences\n",
        "print(len(sentences))\n"
      ],
      "execution_count": 15,
      "outputs": [
        {
          "output_type": "stream",
          "text": [
            "47959\n"
          ],
          "name": "stdout"
        }
      ]
    },
    {
      "cell_type": "code",
      "metadata": {
        "id": "BUTClY1_Pj90",
        "colab_type": "code",
        "colab": {
          "base_uri": "https://localhost:8080/",
          "height": 34
        },
        "outputId": "f8d9c5b1-0015-4d71-8fca-78ece6c82faa"
      },
      "source": [
        "largest_sen = max(len(sen) for sen in sentences)\n",
        "print('biggest sentence has {} words'.format(largest_sen))"
      ],
      "execution_count": 16,
      "outputs": [
        {
          "output_type": "stream",
          "text": [
            "biggest sentence has 104 words\n"
          ],
          "name": "stdout"
        }
      ]
    },
    {
      "cell_type": "code",
      "metadata": {
        "id": "McxLtApIPj93",
        "colab_type": "code",
        "colab": {
          "base_uri": "https://localhost:8080/",
          "height": 269
        },
        "outputId": "efa556d1-0af5-4f5a-d38e-009e3f4b9845"
      },
      "source": [
        "%matplotlib inline\n",
        "plt.hist([len(sen) for sen in sentences], bins= 50)\n",
        "plt.show()"
      ],
      "execution_count": 17,
      "outputs": [
        {
          "output_type": "display_data",
          "data": {
            "image/png": "[encoded data removed]",
            "text/plain": [
              "<Figure size 432x288 with 1 Axes>"
            ]
          },
          "metadata": {
            "tags": []
          }
        }
      ]
    },
    {
      "cell_type": "code",
      "metadata": {
        "id": "o7IcqjcUPj98",
        "colab_type": "code",
        "colab": {
          "base_uri": "https://localhost:8080/",
          "height": 51
        },
        "outputId": "13a9be18-cdba-42e4-dfd4-f0973800cb40"
      },
      "source": [
        "words2index = {w:i for i,w in enumerate(words)}\n",
        "tags2index = {t:i for i,t in enumerate(tags)}\n",
        "print(words2index['London'])\n",
        "print(tags2index['B-geo'])"
      ],
      "execution_count": 18,
      "outputs": [
        {
          "output_type": "stream",
          "text": [
            "14003\n",
            "14\n"
          ],
          "name": "stdout"
        }
      ]
    },
    {
      "cell_type": "code",
      "metadata": {
        "id": "tvNV9tITPj-C",
        "colab_type": "code",
        "colab": {
          "base_uri": "https://localhost:8080/",
          "height": 867
        },
        "outputId": "239d3644-bf90-4111-e2aa-e4ad8a91d00f"
      },
      "source": [
        "max_len = 50\n",
        "X = [[w[0]for w in s] for s in sentences]\n",
        "new_X = []\n",
        "for seq in X:\n",
        "    new_seq = []\n",
        "    for i in range(max_len):\n",
        "        try:\n",
        "            new_seq.append(seq[i])\n",
        "        except:\n",
        "            new_seq.append(\"PADword\")\n",
        "    new_X.append(new_seq)\n",
        "new_X[15]"
      ],
      "execution_count": 19,
      "outputs": [
        {
          "output_type": "execute_result",
          "data": {
            "text/plain": [
              "['Israeli',\n",
              " 'officials',\n",
              " 'say',\n",
              " 'Prime',\n",
              " 'Minister',\n",
              " 'Ariel',\n",
              " 'Sharon',\n",
              " 'will',\n",
              " 'undergo',\n",
              " 'a',\n",
              " 'medical',\n",
              " 'procedure',\n",
              " 'Thursday',\n",
              " 'to',\n",
              " 'close',\n",
              " 'a',\n",
              " 'tiny',\n",
              " 'hole',\n",
              " 'in',\n",
              " 'his',\n",
              " 'heart',\n",
              " 'discovered',\n",
              " 'during',\n",
              " 'treatment',\n",
              " 'for',\n",
              " 'a',\n",
              " 'minor',\n",
              " 'stroke',\n",
              " 'suffered',\n",
              " 'last',\n",
              " 'month',\n",
              " '.',\n",
              " 'PADword',\n",
              " 'PADword',\n",
              " 'PADword',\n",
              " 'PADword',\n",
              " 'PADword',\n",
              " 'PADword',\n",
              " 'PADword',\n",
              " 'PADword',\n",
              " 'PADword',\n",
              " 'PADword',\n",
              " 'PADword',\n",
              " 'PADword',\n",
              " 'PADword',\n",
              " 'PADword',\n",
              " 'PADword',\n",
              " 'PADword',\n",
              " 'PADword',\n",
              " 'PADword']"
            ]
          },
          "metadata": {
            "tags": []
          },
          "execution_count": 19
        }
      ]
    },
    {
      "cell_type": "code",
      "metadata": {
        "id": "dowh-C43Pj-G",
        "colab_type": "code",
        "colab": {
          "base_uri": "https://localhost:8080/",
          "height": 85
        },
        "outputId": "7cc68218-d27e-435c-bd49-1bb777568791"
      },
      "source": [
        "y = [[tags2index[w[1]] for w in s] for s in sentences]\n",
        "y = pad_sequences(maxlen=max_len, sequences=y, padding=\"post\", value=tags2index[\"O\"])\n",
        "y[15]"
      ],
      "execution_count": 20,
      "outputs": [
        {
          "output_type": "execute_result",
          "data": {
            "text/plain": [
              "array([13,  3,  3,  4,  6,  6,  6,  3,  3,  3,  3,  3, 16,  3,  3,  3,  3,\n",
              "        3,  3,  3,  3,  3,  3,  3,  3,  3,  3,  3,  3,  3,  3,  3,  3,  3,\n",
              "        3,  3,  3,  3,  3,  3,  3,  3,  3,  3,  3,  3,  3,  3,  3,  3],\n",
              "      dtype=int32)"
            ]
          },
          "metadata": {
            "tags": []
          },
          "execution_count": 20
        }
      ]
    },
    {
      "cell_type": "code",
      "metadata": {
        "id": "0jET441APj-J",
        "colab_type": "code",
        "colab": {
          "base_uri": "https://localhost:8080/",
          "height": 935
        },
        "outputId": "39aceb6e-b09d-4bb8-8cfc-d19e7b1a2bd7"
      },
      "source": [
        "y[0], new_X[0]"
      ],
      "execution_count": 21,
      "outputs": [
        {
          "output_type": "execute_result",
          "data": {
            "text/plain": [
              "(array([ 3,  3,  3,  3,  3,  3, 14,  3,  3,  3,  3,  3, 14,  3,  3,  3,  3,\n",
              "         3, 13,  3,  3,  3,  3,  3,  3,  3,  3,  3,  3,  3,  3,  3,  3,  3,\n",
              "         3,  3,  3,  3,  3,  3,  3,  3,  3,  3,  3,  3,  3,  3,  3,  3],\n",
              "       dtype=int32),\n",
              " ['Thousands',\n",
              "  'of',\n",
              "  'demonstrators',\n",
              "  'have',\n",
              "  'marched',\n",
              "  'through',\n",
              "  'London',\n",
              "  'to',\n",
              "  'protest',\n",
              "  'the',\n",
              "  'war',\n",
              "  'in',\n",
              "  'Iraq',\n",
              "  'and',\n",
              "  'demand',\n",
              "  'the',\n",
              "  'withdrawal',\n",
              "  'of',\n",
              "  'British',\n",
              "  'troops',\n",
              "  'from',\n",
              "  'that',\n",
              "  'country',\n",
              "  '.',\n",
              "  'PADword',\n",
              "  'PADword',\n",
              "  'PADword',\n",
              "  'PADword',\n",
              "  'PADword',\n",
              "  'PADword',\n",
              "  'PADword',\n",
              "  'PADword',\n",
              "  'PADword',\n",
              "  'PADword',\n",
              "  'PADword',\n",
              "  'PADword',\n",
              "  'PADword',\n",
              "  'PADword',\n",
              "  'PADword',\n",
              "  'PADword',\n",
              "  'PADword',\n",
              "  'PADword',\n",
              "  'PADword',\n",
              "  'PADword',\n",
              "  'PADword',\n",
              "  'PADword',\n",
              "  'PADword',\n",
              "  'PADword',\n",
              "  'PADword',\n",
              "  'PADword'])"
            ]
          },
          "metadata": {
            "tags": []
          },
          "execution_count": 21
        }
      ]
    },
    {
      "cell_type": "code",
      "metadata": {
        "id": "vgJfiAttPj-h",
        "colab_type": "code",
        "colab": {
          "base_uri": "https://localhost:8080/",
          "height": 34
        },
        "outputId": "e9e8ec2f-6119-4cb9-fd41-9e2e9dcaad0c"
      },
      "source": [
        "np.array(new_X).shape, y.shape"
      ],
      "execution_count": 22,
      "outputs": [
        {
          "output_type": "execute_result",
          "data": {
            "text/plain": [
              "((47959, 50), (47959, 50))"
            ]
          },
          "metadata": {
            "tags": []
          },
          "execution_count": 22
        }
      ]
    },
    {
      "cell_type": "code",
      "metadata": {
        "id": "7UDnmVcmPj-m",
        "colab_type": "code",
        "colab": {}
      },
      "source": [
        "X_tr, X_te, y_tr, y_te = train_test_split(new_X, y, test_size=0.1, random_state=2018)"
      ],
      "execution_count": 0,
      "outputs": []
    },
    {
      "cell_type": "code",
      "metadata": {
        "id": "BvTzR_txPj-r",
        "colab_type": "code",
        "colab": {
          "base_uri": "https://localhost:8080/",
          "height": 1000
        },
        "outputId": "7ae56133-e51d-4eda-99a6-f32a7c857dcc"
      },
      "source": [
        "X_tr[0], X_te[0], y_tr[0], y_te[0]"
      ],
      "execution_count": 24,
      "outputs": [
        {
          "output_type": "execute_result",
          "data": {
            "text/plain": [
              "(['At',\n",
              "  'least',\n",
              "  'five',\n",
              "  'policemen',\n",
              "  'have',\n",
              "  'been',\n",
              "  'killed',\n",
              "  'in',\n",
              "  'a',\n",
              "  'militant',\n",
              "  'attack',\n",
              "  'on',\n",
              "  'a',\n",
              "  'security',\n",
              "  'camp',\n",
              "  'in',\n",
              "  'Indian-controlled',\n",
              "  'Kashmir',\n",
              "  '.',\n",
              "  'PADword',\n",
              "  'PADword',\n",
              "  'PADword',\n",
              "  'PADword',\n",
              "  'PADword',\n",
              "  'PADword',\n",
              "  'PADword',\n",
              "  'PADword',\n",
              "  'PADword',\n",
              "  'PADword',\n",
              "  'PADword',\n",
              "  'PADword',\n",
              "  'PADword',\n",
              "  'PADword',\n",
              "  'PADword',\n",
              "  'PADword',\n",
              "  'PADword',\n",
              "  'PADword',\n",
              "  'PADword',\n",
              "  'PADword',\n",
              "  'PADword',\n",
              "  'PADword',\n",
              "  'PADword',\n",
              "  'PADword',\n",
              "  'PADword',\n",
              "  'PADword',\n",
              "  'PADword',\n",
              "  'PADword',\n",
              "  'PADword',\n",
              "  'PADword',\n",
              "  'PADword'],\n",
              " ['They',\n",
              "  'say',\n",
              "  'the',\n",
              "  'documents',\n",
              "  'were',\n",
              "  'found',\n",
              "  'in',\n",
              "  'the',\n",
              "  'computer',\n",
              "  'of',\n",
              "  'FARC',\n",
              "  'leader',\n",
              "  'Raul',\n",
              "  'Reyes',\n",
              "  'during',\n",
              "  'a',\n",
              "  'cross-border',\n",
              "  'raid',\n",
              "  'in',\n",
              "  'Ecuador',\n",
              "  'last',\n",
              "  'month',\n",
              "  '.',\n",
              "  'PADword',\n",
              "  'PADword',\n",
              "  'PADword',\n",
              "  'PADword',\n",
              "  'PADword',\n",
              "  'PADword',\n",
              "  'PADword',\n",
              "  'PADword',\n",
              "  'PADword',\n",
              "  'PADword',\n",
              "  'PADword',\n",
              "  'PADword',\n",
              "  'PADword',\n",
              "  'PADword',\n",
              "  'PADword',\n",
              "  'PADword',\n",
              "  'PADword',\n",
              "  'PADword',\n",
              "  'PADword',\n",
              "  'PADword',\n",
              "  'PADword',\n",
              "  'PADword',\n",
              "  'PADword',\n",
              "  'PADword',\n",
              "  'PADword',\n",
              "  'PADword',\n",
              "  'PADword'],\n",
              " array([ 3,  3,  3,  3,  3,  3,  3,  3,  3,  3,  3,  3,  3,  3,  3,  3, 14,\n",
              "         5,  3,  3,  3,  3,  3,  3,  3,  3,  3,  3,  3,  3,  3,  3,  3,  3,\n",
              "         3,  3,  3,  3,  3,  3,  3,  3,  3,  3,  3,  3,  3,  3,  3,  3],\n",
              "       dtype=int32),\n",
              " array([ 3,  3,  3,  3,  3,  3,  3,  3,  3,  3,  2,  3,  4,  6,  3,  3,  3,\n",
              "         3,  3, 14,  3,  3,  3,  3,  3,  3,  3,  3,  3,  3,  3,  3,  3,  3,\n",
              "         3,  3,  3,  3,  3,  3,  3,  3,  3,  3,  3,  3,  3,  3,  3,  3],\n",
              "       dtype=int32))"
            ]
          },
          "metadata": {
            "tags": []
          },
          "execution_count": 24
        }
      ]
    },
    {
      "cell_type": "code",
      "metadata": {
        "id": "p_Qng9NGPj-t",
        "colab_type": "code",
        "colab": {}
      },
      "source": [
        "batch_size = 32\n",
        "sess = tf.Session()\n",
        "K.set_session(sess)"
      ],
      "execution_count": 0,
      "outputs": []
    },
    {
      "cell_type": "code",
      "metadata": {
        "id": "9ZOVVXwAPj-y",
        "colab_type": "code",
        "colab": {}
      },
      "source": [
        "elmo_model = hub.Module(\"https://tfhub.dev/google/elmo/2\", trainable=True)\n",
        "sess.run(tf.global_variables_initializer())\n",
        "sess.run(tf.tables_initializer())"
      ],
      "execution_count": 0,
      "outputs": []
    },
    {
      "cell_type": "code",
      "metadata": {
        "id": "WE-WmnfPPj-1",
        "colab_type": "code",
        "colab": {}
      },
      "source": [
        "def ElmoEmbedding(x):\n",
        "    return elmo_model(inputs={\n",
        "                            \"tokens\": tf.squeeze(tf.cast(x, tf.string)),\n",
        "                            \"sequence_len\": tf.constant(batch_size*[max_len])\n",
        "                      },\n",
        "                      signature=\"tokens\",\n",
        "                      as_dict=True)[\"elmo\"]"
      ],
      "execution_count": 0,
      "outputs": []
    },
    {
      "cell_type": "code",
      "metadata": {
        "id": "pe3fZbKIPj-5",
        "colab_type": "code",
        "colab": {
          "base_uri": "https://localhost:8080/",
          "height": 445
        },
        "outputId": "cc9a0f32-ba73-4e93-cb1f-37b58c581f68"
      },
      "source": [
        "input_text = Input(shape=(max_len,), dtype=tf.string)\n",
        "embedding = Lambda(ElmoEmbedding, output_shape=(max_len, 1024))(input_text)\n",
        "x = Bidirectional(LSTM(units=512, return_sequences=True,\n",
        "                       recurrent_dropout=0.2, dropout=0.2))(embedding)\n",
        "x_rnn = Bidirectional(LSTM(units=512, return_sequences=True,\n",
        "                           recurrent_dropout=0.2, dropout=0.2))(x)\n",
        "x = add([x, x_rnn])  # residual connection to the first biLSTM\n",
        "out = TimeDistributed(Dense(n_tags, activation=\"softmax\"))(x)"
      ],
      "execution_count": 28,
      "outputs": [
        {
          "output_type": "stream",
          "text": [
            "WARNING:tensorflow:From /usr/local/lib/python3.6/dist-packages/keras/backend/tensorflow_backend.py:66: The name tf.get_default_graph is deprecated. Please use tf.compat.v1.get_default_graph instead.\n",
            "\n"
          ],
          "name": "stdout"
        },
        {
          "output_type": "stream",
          "text": [
            "WARNING:tensorflow:From /usr/local/lib/python3.6/dist-packages/keras/backend/tensorflow_backend.py:66: The name tf.get_default_graph is deprecated. Please use tf.compat.v1.get_default_graph instead.\n",
            "\n"
          ],
          "name": "stderr"
        },
        {
          "output_type": "stream",
          "text": [
            "WARNING:tensorflow:From /usr/local/lib/python3.6/dist-packages/keras/backend/tensorflow_backend.py:541: The name tf.placeholder is deprecated. Please use tf.compat.v1.placeholder instead.\n",
            "\n"
          ],
          "name": "stdout"
        },
        {
          "output_type": "stream",
          "text": [
            "WARNING:tensorflow:From /usr/local/lib/python3.6/dist-packages/keras/backend/tensorflow_backend.py:541: The name tf.placeholder is deprecated. Please use tf.compat.v1.placeholder instead.\n",
            "\n"
          ],
          "name": "stderr"
        },
        {
          "output_type": "stream",
          "text": [
            "INFO:tensorflow:Saver not created because there are no variables in the graph to restore\n"
          ],
          "name": "stdout"
        },
        {
          "output_type": "stream",
          "text": [
            "INFO:tensorflow:Saver not created because there are no variables in the graph to restore\n"
          ],
          "name": "stderr"
        },
        {
          "output_type": "stream",
          "text": [
            "WARNING:tensorflow:From /usr/local/lib/python3.6/dist-packages/keras/backend/tensorflow_backend.py:4432: The name tf.random_uniform is deprecated. Please use tf.random.uniform instead.\n",
            "\n"
          ],
          "name": "stdout"
        },
        {
          "output_type": "stream",
          "text": [
            "WARNING:tensorflow:From /usr/local/lib/python3.6/dist-packages/keras/backend/tensorflow_backend.py:4432: The name tf.random_uniform is deprecated. Please use tf.random.uniform instead.\n",
            "\n"
          ],
          "name": "stderr"
        },
        {
          "output_type": "stream",
          "text": [
            "WARNING:tensorflow:From /usr/local/lib/python3.6/dist-packages/keras/backend/tensorflow_backend.py:148: The name tf.placeholder_with_default is deprecated. Please use tf.compat.v1.placeholder_with_default instead.\n",
            "\n"
          ],
          "name": "stdout"
        },
        {
          "output_type": "stream",
          "text": [
            "WARNING:tensorflow:From /usr/local/lib/python3.6/dist-packages/keras/backend/tensorflow_backend.py:148: The name tf.placeholder_with_default is deprecated. Please use tf.compat.v1.placeholder_with_default instead.\n",
            "\n"
          ],
          "name": "stderr"
        },
        {
          "output_type": "stream",
          "text": [
            "WARNING:tensorflow:From /usr/local/lib/python3.6/dist-packages/keras/backend/tensorflow_backend.py:3733: calling dropout (from tensorflow.python.ops.nn_ops) with keep_prob is deprecated and will be removed in a future version.\n",
            "Instructions for updating:\n",
            "Please use `rate` instead of `keep_prob`. Rate should be set to `rate = 1 - keep_prob`.\n"
          ],
          "name": "stdout"
        },
        {
          "output_type": "stream",
          "text": [
            "WARNING:tensorflow:From /usr/local/lib/python3.6/dist-packages/keras/backend/tensorflow_backend.py:3733: calling dropout (from tensorflow.python.ops.nn_ops) with keep_prob is deprecated and will be removed in a future version.\n",
            "Instructions for updating:\n",
            "Please use `rate` instead of `keep_prob`. Rate should be set to `rate = 1 - keep_prob`.\n"
          ],
          "name": "stderr"
        }
      ]
    },
    {
      "cell_type": "code",
      "metadata": {
        "id": "7gJhEWUvWEOK",
        "colab_type": "code",
        "colab": {
          "base_uri": "https://localhost:8080/",
          "height": 374
        },
        "outputId": "30f1a96b-37a8-4773-f7c5-f5593c040375"
      },
      "source": [
        "model.summary()"
      ],
      "execution_count": 40,
      "outputs": [
        {
          "output_type": "stream",
          "text": [
            "Model: \"model_3\"\n",
            "__________________________________________________________________________________________________\n",
            "Layer (type)                    Output Shape         Param #     Connected to                     \n",
            "==================================================================================================\n",
            "input_1 (InputLayer)            (None, 50)           0                                            \n",
            "__________________________________________________________________________________________________\n",
            "lambda_1 (Lambda)               (None, 50, 1024)     0           input_1[0][0]                    \n",
            "__________________________________________________________________________________________________\n",
            "bidirectional_1 (Bidirectional) (None, 50, 1024)     6295552     lambda_1[0][0]                   \n",
            "__________________________________________________________________________________________________\n",
            "bidirectional_2 (Bidirectional) (None, 50, 1024)     6295552     bidirectional_1[0][0]            \n",
            "__________________________________________________________________________________________________\n",
            "add_1 (Add)                     (None, 50, 1024)     0           bidirectional_1[0][0]            \n",
            "                                                                 bidirectional_2[0][0]            \n",
            "__________________________________________________________________________________________________\n",
            "time_distributed_1 (TimeDistrib (None, 50, 17)       17425       add_1[0][0]                      \n",
            "==================================================================================================\n",
            "Total params: 12,608,529\n",
            "Trainable params: 12,608,529\n",
            "Non-trainable params: 0\n",
            "__________________________________________________________________________________________________\n"
          ],
          "name": "stdout"
        }
      ]
    },
    {
      "cell_type": "code",
      "metadata": {
        "id": "TxaGzuxfPj-_",
        "colab_type": "code",
        "colab": {}
      },
      "source": [
        "model = Model(input_text, out)\n",
        "model.compile(optimizer=\"adam\", loss=\"sparse_categorical_crossentropy\", metrics=[\"accuracy\"])"
      ],
      "execution_count": 0,
      "outputs": []
    },
    {
      "cell_type": "code",
      "metadata": {
        "id": "8sekAlCvPj_F",
        "colab_type": "code",
        "colab": {
          "base_uri": "https://localhost:8080/",
          "height": 34
        },
        "outputId": "f96bccc1-87ff-41ff-e978-c7d63ed9856f"
      },
      "source": [
        "np.array(X_tr).shape, y_tr.shape, np.array(X_te).shape, y_te.shape"
      ],
      "execution_count": 36,
      "outputs": [
        {
          "output_type": "execute_result",
          "data": {
            "text/plain": [
              "((38816, 50), (38816, 50, 1), (4796, 50), (4796, 50))"
            ]
          },
          "metadata": {
            "tags": []
          },
          "execution_count": 36
        }
      ]
    },
    {
      "cell_type": "code",
      "metadata": {
        "id": "T7_lpBvJPj_M",
        "colab_type": "code",
        "colab": {}
      },
      "source": [
        "X_tr, X_val = X_tr[:1213*batch_size], X_tr[-135*batch_size:]\n",
        "y_tr, y_val = y_tr[:1213*batch_size], y_tr[-135*batch_size:]\n",
        "y_tr = y_tr.reshape(y_tr.shape[0], y_tr.shape[1], 1)\n",
        "y_val = y_val.reshape(y_val.shape[0], y_val.shape[1], 1)"
      ],
      "execution_count": 0,
      "outputs": []
    },
    {
      "cell_type": "code",
      "metadata": {
        "id": "hG0qhBCEPj_b",
        "colab_type": "code",
        "colab": {
          "base_uri": "https://localhost:8080/",
          "height": 34
        },
        "outputId": "01efab3a-e13b-4a15-dfb7-098b974ccb9f"
      },
      "source": [
        "np.array(X_tr).shape, y_tr.shape, np.array(X_val).shape, y_val.shape"
      ],
      "execution_count": 38,
      "outputs": [
        {
          "output_type": "execute_result",
          "data": {
            "text/plain": [
              "((38816, 50), (38816, 50, 1), (4320, 50), (4320, 50, 1))"
            ]
          },
          "metadata": {
            "tags": []
          },
          "execution_count": 38
        }
      ]
    },
    {
      "cell_type": "code",
      "metadata": {
        "id": "QVB8tTyOPj_d",
        "colab_type": "code",
        "colab": {
          "base_uri": "https://localhost:8080/",
          "height": 136
        },
        "outputId": "342193d7-e7da-49f6-b7d5-74784dd2c971"
      },
      "source": [
        "history = model.fit(np.array(X_tr), y_tr, validation_data=(np.array(X_val), y_val), batch_size=batch_size, epochs=3, verbose=1)"
      ],
      "execution_count": 39,
      "outputs": [
        {
          "output_type": "stream",
          "text": [
            "Train on 38816 samples, validate on 4320 samples\n",
            "Epoch 1/3\n",
            "38816/38816 [==============================] - 1384s 36ms/step - loss: 0.0631 - acc: 0.9817 - val_loss: 0.0426 - val_acc: 0.9862\n",
            "Epoch 2/3\n",
            "38816/38816 [==============================] - 1376s 35ms/step - loss: 0.0405 - acc: 0.9870 - val_loss: 0.0342 - val_acc: 0.9885\n",
            "Epoch 3/3\n",
            "38816/38816 [==============================] - 1374s 35ms/step - loss: 0.0339 - acc: 0.9885 - val_loss: 0.0254 - val_acc: 0.9912\n"
          ],
          "name": "stdout"
        }
      ]
    },
    {
      "cell_type": "markdown",
      "metadata": {
        "id": "VzQuATYuPj_i",
        "colab_type": "text"
      },
      "source": [
        "# Fix abbove cell"
      ]
    },
    {
      "cell_type": "code",
      "metadata": {
        "id": "g5im39FhPj_n",
        "colab_type": "code",
        "colab": {
          "base_uri": "https://localhost:8080/",
          "height": 34
        },
        "outputId": "ba6ff5be-cd77-49b8-f189-cac33716bb77"
      },
      "source": [
        "X_te = X_te[:149*batch_size]\n",
        "test_pred = model.predict(np.array(X_te), verbose=1)"
      ],
      "execution_count": 41,
      "outputs": [
        {
          "output_type": "stream",
          "text": [
            "4768/4768 [==============================] - 113s 24ms/step\n"
          ],
          "name": "stdout"
        }
      ]
    },
    {
      "cell_type": "code",
      "metadata": {
        "id": "XxRW_HXOPj_p",
        "colab_type": "code",
        "colab": {}
      },
      "source": [
        "idx2tag = {i: w for w, i in tags2index.items()}\n",
        "\n",
        "def pred2label(pred):\n",
        "    out = []\n",
        "    for pred_i in pred:\n",
        "        out_i = []\n",
        "        for p in pred_i:\n",
        "            p_i = np.argmax(p)\n",
        "            out_i.append(idx2tag[p_i].replace(\"PADword\", \"O\"))\n",
        "        out.append(out_i)\n",
        "    return out\n",
        "\n",
        "def test2label(pred):\n",
        "    out = []\n",
        "    for pred_i in pred:\n",
        "        out_i = []\n",
        "        for p in pred_i:\n",
        "            out_i.append(idx2tag[p].replace(\"PADword\", \"O\"))\n",
        "        out.append(out_i)\n",
        "    return out\n",
        "    \n",
        "pred_labels = pred2label(test_pred)\n",
        "test_labels = test2label(y_te[:149*32])\n"
      ],
      "execution_count": 0,
      "outputs": []
    },
    {
      "cell_type": "code",
      "metadata": {
        "id": "T9YxpF29Pj_s",
        "colab_type": "code",
        "colab": {
          "base_uri": "https://localhost:8080/",
          "height": 34
        },
        "outputId": "d0d2de69-0f94-4efd-b893-5dc84cd485f5"
      },
      "source": [
        "print(\"F1-score: {:.1%}\".format(f1_score(test_labels, pred_labels)))"
      ],
      "execution_count": 43,
      "outputs": [
        {
          "output_type": "stream",
          "text": [
            "F1-score: 82.4%\n"
          ],
          "name": "stdout"
        }
      ]
    },
    {
      "cell_type": "code",
      "metadata": {
        "id": "TWd0JbcoPj_v",
        "colab_type": "code",
        "colab": {
          "base_uri": "https://localhost:8080/",
          "height": 255
        },
        "outputId": "30c4fc14-04bc-488a-aa99-b4ca7d2cb08e"
      },
      "source": [
        "print(classification_report(test_labels, pred_labels))"
      ],
      "execution_count": 44,
      "outputs": [
        {
          "output_type": "stream",
          "text": [
            "           precision    recall  f1-score   support\n",
            "\n",
            "      org       0.71      0.65      0.68      2061\n",
            "      per       0.73      0.80      0.77      1677\n",
            "      tim       0.86      0.85      0.86      2148\n",
            "      gpe       0.95      0.94      0.94      1591\n",
            "      geo       0.83      0.91      0.87      3720\n",
            "      eve       0.46      0.36      0.41        33\n",
            "      art       0.25      0.20      0.22        49\n",
            "      nat       0.50      0.23      0.31        22\n",
            "\n",
            "micro avg       0.82      0.83      0.82     11301\n",
            "macro avg       0.81      0.83      0.82     11301\n",
            "\n"
          ],
          "name": "stdout"
        }
      ]
    },
    {
      "cell_type": "code",
      "metadata": {
        "id": "GW-JDvD8Pj_z",
        "colab_type": "code",
        "colab": {
          "base_uri": "https://localhost:8080/",
          "height": 731
        },
        "outputId": "c7de6e9a-5b82-4dc1-c4d4-4ad7156fa235"
      },
      "source": [
        "i = 390\n",
        "p = model.predict(np.array(X_te[i:i+batch_size]))[0]\n",
        "p = np.argmax(p, axis=-1)\n",
        "print(\"{:15} {:5}: ({})\".format(\"Word\", \"Pred\", \"True\"))\n",
        "print(\"=\"*30)\n",
        "for w, true, pred in zip(X_te[i], y_te[i], p):\n",
        "    if w != \"PADword\":\n",
        "        print(\"{:15}:{:5} ({})\".format(w, tags[pred], tags[true]))"
      ],
      "execution_count": 45,
      "outputs": [
        {
          "output_type": "stream",
          "text": [
            "Word            Pred : (True)\n",
            "==============================\n",
            "Citing         :O     (O)\n",
            "a              :O     (O)\n",
            "draft          :O     (O)\n",
            "report         :O     (O)\n",
            "from           :O     (O)\n",
            "the            :O     (O)\n",
            "U.S.           :B-org (B-org)\n",
            "Government     :I-org (I-org)\n",
            "Accountability :I-org (O)\n",
            "office         :O     (O)\n",
            ",              :O     (O)\n",
            "The            :B-org (B-org)\n",
            "New            :I-org (I-org)\n",
            "York           :I-org (I-org)\n",
            "Times          :I-org (I-org)\n",
            "said           :O     (O)\n",
            "Saturday       :B-tim (B-tim)\n",
            "the            :O     (O)\n",
            "losses         :O     (O)\n",
            "amount         :O     (O)\n",
            "to             :O     (O)\n",
            "between        :O     (O)\n",
            "1,00,000       :O     (O)\n",
            "and            :O     (O)\n",
            "3,00,000       :O     (O)\n",
            "barrels        :O     (O)\n",
            "a              :O     (O)\n",
            "day            :O     (O)\n",
            "of             :O     (O)\n",
            "Iraq           :B-geo (B-geo)\n",
            "'s             :O     (O)\n",
            "declared       :O     (O)\n",
            "oil            :O     (O)\n",
            "production     :O     (O)\n",
            "over           :O     (O)\n",
            "the            :O     (O)\n",
            "past           :B-tim (B-tim)\n",
            "four           :I-tim (I-tim)\n",
            "years          :O     (O)\n",
            ".              :O     (O)\n"
          ],
          "name": "stdout"
        }
      ]
    },
    {
      "cell_type": "code",
      "metadata": {
        "id": "opRB4rNfPj_1",
        "colab_type": "code",
        "colab": {}
      },
      "source": [
        ""
      ],
      "execution_count": 0,
      "outputs": []
    }
  ]
}